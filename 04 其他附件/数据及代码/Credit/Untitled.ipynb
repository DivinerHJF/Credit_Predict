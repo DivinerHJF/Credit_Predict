{
 "cells": [
  {
   "cell_type": "code",
   "execution_count": 1,
   "metadata": {},
   "outputs": [],
   "source": [
    "loan_data1 <- read.csv(\"./data/renrenloan1.csv\", header = TRUE, stringsAsFactors = FALSE)\n",
    "loan_data1[, \"年龄\"] <- 2015 - as.numeric(substring(loan_data1[,\"出生年月\"], 1, 4))\n",
    "loan_data2 <- read.csv(\"./data/renrenloan2.csv\", header = TRUE, stringsAsFactors = FALSE)\n",
    "loan_data2[, \"年龄\"] <- 2016 - as.numeric(substring(loan_data2[,\"出生年月\"], 1, 4))\n",
    "all_loan_data <- rbind(loan_data1, loan_data2)\n",
    "var <- c('标的状态', '标题', '标的总额', '年利率', '期限', 'passTime',\n",
    "         '信用评级', '性别', '学历', '婚姻', '申请借款', '成功借款', '还清笔数', '信用额度', '借款总额', \n",
    "         '逾期次数', '严重逾期', '收入', '房产', '房贷', '车产', '车贷', \n",
    "         '公司规模', '工作城市', '工作时间', \"年龄\")\n",
    "loan_data <- all_loan_data[,var]"
   ]
  },
  {
   "cell_type": "code",
   "execution_count": 2,
   "metadata": {},
   "outputs": [
    {
     "data": {
      "text/html": [
       "<table>\n",
       "<thead><tr><th scope=col>标的状态</th><th scope=col>标题</th><th scope=col>标的总额</th><th scope=col>年利率</th><th scope=col>期限</th><th scope=col>passTime</th><th scope=col>信用评级</th><th scope=col>性别</th><th scope=col>学历</th><th scope=col>婚姻</th><th scope=col>...</th><th scope=col>严重逾期</th><th scope=col>收入</th><th scope=col>房产</th><th scope=col>房贷</th><th scope=col>车产</th><th scope=col>车贷</th><th scope=col>公司规模</th><th scope=col>工作城市</th><th scope=col>工作时间</th><th scope=col>年龄</th></tr></thead>\n",
       "<tbody>\n",
       "\t<tr><td>BAD_DEBT                    </td><td>个人消费，诚信借款          </td><td> 8000                       </td><td>13                          </td><td>24个月                      </td><td>2015-01-07 10:42:14         </td><td>HR                          </td><td>男                          </td><td>高中或以下                  </td><td>UNMARRIED                   </td><td>...                         </td><td>1                           </td><td>2000-5000元                 </td><td>false                       </td><td>false                       </td><td>false                       </td><td>false                       </td><td>100-500人                   </td><td>上海 黄浦                   </td><td>1-3年（含）                 </td><td>23                          </td></tr>\n",
       "\t<tr><td>BAD_DEBT                    </td><td>飞机维修员，借款用途结婚买车</td><td>30000                       </td><td>13                          </td><td>24个月                      </td><td>2015-01-06 11:39:10         </td><td>HR                          </td><td>男                          </td><td>大专                        </td><td>MARRIED                     </td><td>...                         </td><td>1                           </td><td>5000-10000元                </td><td>true                        </td><td>true                        </td><td>false                       </td><td>false                       </td><td>500人以上                   </td><td>河南 郑州                   </td><td>1-3年（含）                 </td><td>25                          </td></tr>\n",
       "\t<tr><td>BAD_DEBT                    </td><td>短期周转进货                </td><td>10000                       </td><td>12                          </td><td>12个月                      </td><td>2015-01-05 12:39:26         </td><td>HR                          </td><td>女                          </td><td>大专                        </td><td>UNMARRIED                   </td><td>...                         </td><td>1                           </td><td>20000-50000元               </td><td>false                       </td><td>false                       </td><td>false                       </td><td>false                       </td><td>10人以下                    </td><td>江苏 南京                   </td><td>1-3年（含）                 </td><td>28                          </td></tr>\n",
       "\t<tr><td>BAD_DEBT                    </td><td>年末销售旺季                </td><td>40000                       </td><td>13                          </td><td>24个月                      </td><td>2015-01-07 09:54:21         </td><td>HR                          </td><td>男                          </td><td>大专                        </td><td>MARRIED                     </td><td>...                         </td><td>1                           </td><td>20000-50000元               </td><td>false                       </td><td>false                       </td><td>true                        </td><td>false                       </td><td>10人以下                    </td><td>广东 广州                   </td><td>5年以上                     </td><td>41                          </td></tr>\n",
       "\t<tr><td>BAD_DEBT                    </td><td>扩大经营规模                </td><td>15000                       </td><td>13                          </td><td>18个月                      </td><td>2015-01-09 17:55:30         </td><td>HR                          </td><td>男                          </td><td>大专                        </td><td>DIVORCED                    </td><td>...                         </td><td>1                           </td><td>5000-10000元                </td><td>false                       </td><td>false                       </td><td>false                       </td><td>false                       </td><td>10人以下                    </td><td>四川 内江                   </td><td>1-3年（含）                 </td><td>30                          </td></tr>\n",
       "\t<tr><td>BAD_DEBT                    </td><td>用于生活日常交费用          </td><td>10000                       </td><td>13                          </td><td>24个月                      </td><td>2015-01-05 17:52:16         </td><td>HR                          </td><td>男                          </td><td>大专                        </td><td>UNMARRIED                   </td><td>...                         </td><td>1                           </td><td>2000-5000元                 </td><td>false                       </td><td>false                       </td><td>false                       </td><td>false                       </td><td>10-100人                    </td><td>贵州 贵阳                   </td><td>1年（含）以下               </td><td>26                          </td></tr>\n",
       "</tbody>\n",
       "</table>\n"
      ],
      "text/latex": [
       "\\begin{tabular}{r|llllllllllllllllllllllllll}\n",
       " 标的状态 & 标题 & 标的总额 & 年利率 & 期限 & passTime & 信用评级 & 性别 & 学历 & 婚姻 & ... & 严重逾期 & 收入 & 房产 & 房贷 & 车产 & 车贷 & 公司规模 & 工作城市 & 工作时间 & 年龄\\\\\n",
       "\\hline\n",
       "\t BAD\\_DEBT                   & 个人消费，诚信借款           &  8000                        & 13                           & 24个月                       & 2015-01-07 10:42:14          & HR                           & 男                           & 高中或以下                   & UNMARRIED                    & ...                          & 1                            & 2000-5000元                  & false                        & false                        & false                        & false                        & 100-500人                    & 上海 黄浦                    & 1-3年（含）                  & 23                          \\\\\n",
       "\t BAD\\_DEBT                   & 飞机维修员，借款用途结婚买车 & 30000                        & 13                           & 24个月                       & 2015-01-06 11:39:10          & HR                           & 男                           & 大专                         & MARRIED                      & ...                          & 1                            & 5000-10000元                 & true                         & true                         & false                        & false                        & 500人以上                    & 河南 郑州                    & 1-3年（含）                  & 25                          \\\\\n",
       "\t BAD\\_DEBT                   & 短期周转进货                 & 10000                        & 12                           & 12个月                       & 2015-01-05 12:39:26          & HR                           & 女                           & 大专                         & UNMARRIED                    & ...                          & 1                            & 20000-50000元                & false                        & false                        & false                        & false                        & 10人以下                     & 江苏 南京                    & 1-3年（含）                  & 28                          \\\\\n",
       "\t BAD\\_DEBT                   & 年末销售旺季                 & 40000                        & 13                           & 24个月                       & 2015-01-07 09:54:21          & HR                           & 男                           & 大专                         & MARRIED                      & ...                          & 1                            & 20000-50000元                & false                        & false                        & true                         & false                        & 10人以下                     & 广东 广州                    & 5年以上                      & 41                          \\\\\n",
       "\t BAD\\_DEBT                   & 扩大经营规模                 & 15000                        & 13                           & 18个月                       & 2015-01-09 17:55:30          & HR                           & 男                           & 大专                         & DIVORCED                     & ...                          & 1                            & 5000-10000元                 & false                        & false                        & false                        & false                        & 10人以下                     & 四川 内江                    & 1-3年（含）                  & 30                          \\\\\n",
       "\t BAD\\_DEBT                   & 用于生活日常交费用           & 10000                        & 13                           & 24个月                       & 2015-01-05 17:52:16          & HR                           & 男                           & 大专                         & UNMARRIED                    & ...                          & 1                            & 2000-5000元                  & false                        & false                        & false                        & false                        & 10-100人                     & 贵州 贵阳                    & 1年（含）以下                & 26                          \\\\\n",
       "\\end{tabular}\n"
      ],
      "text/markdown": [
       "\n",
       "标的状态 | 标题 | 标的总额 | 年利率 | 期限 | passTime | 信用评级 | 性别 | 学历 | 婚姻 | ... | 严重逾期 | 收入 | 房产 | 房贷 | 车产 | 车贷 | 公司规模 | 工作城市 | 工作时间 | 年龄 | \n",
       "|---|---|---|---|---|---|\n",
       "| BAD_DEBT                     | 个人消费，诚信借款           |  8000                        | 13                           | 24个月                       | 2015-01-07 10:42:14          | HR                           | 男                           | 高中或以下                   | UNMARRIED                    | ...                          | 1                            | 2000-5000元                  | false                        | false                        | false                        | false                        | 100-500人                    | 上海 黄浦                    | 1-3年（含）                  | 23                           | \n",
       "| BAD_DEBT                     | 飞机维修员，借款用途结婚买车 | 30000                        | 13                           | 24个月                       | 2015-01-06 11:39:10          | HR                           | 男                           | 大专                         | MARRIED                      | ...                          | 1                            | 5000-10000元                 | true                         | true                         | false                        | false                        | 500人以上                    | 河南 郑州                    | 1-3年（含）                  | 25                           | \n",
       "| BAD_DEBT                     | 短期周转进货                 | 10000                        | 12                           | 12个月                       | 2015-01-05 12:39:26          | HR                           | 女                           | 大专                         | UNMARRIED                    | ...                          | 1                            | 20000-50000元                | false                        | false                        | false                        | false                        | 10人以下                     | 江苏 南京                    | 1-3年（含）                  | 28                           | \n",
       "| BAD_DEBT                     | 年末销售旺季                 | 40000                        | 13                           | 24个月                       | 2015-01-07 09:54:21          | HR                           | 男                           | 大专                         | MARRIED                      | ...                          | 1                            | 20000-50000元                | false                        | false                        | true                         | false                        | 10人以下                     | 广东 广州                    | 5年以上                      | 41                           | \n",
       "| BAD_DEBT                     | 扩大经营规模                 | 15000                        | 13                           | 18个月                       | 2015-01-09 17:55:30          | HR                           | 男                           | 大专                         | DIVORCED                     | ...                          | 1                            | 5000-10000元                 | false                        | false                        | false                        | false                        | 10人以下                     | 四川 内江                    | 1-3年（含）                  | 30                           | \n",
       "| BAD_DEBT                     | 用于生活日常交费用           | 10000                        | 13                           | 24个月                       | 2015-01-05 17:52:16          | HR                           | 男                           | 大专                         | UNMARRIED                    | ...                          | 1                            | 2000-5000元                  | false                        | false                        | false                        | false                        | 10-100人                     | 贵州 贵阳                    | 1年（含）以下                | 26                           | \n",
       "\n",
       "\n"
      ],
      "text/plain": [
       "  标的状态 标题                         标的总额 年利率 期限  \n",
       "1 BAD_DEBT 个人消费，诚信借款            8000    13     24个月\n",
       "2 BAD_DEBT 飞机维修员，借款用途结婚买车 30000    13     24个月\n",
       "3 BAD_DEBT 短期周转进货                 10000    12     12个月\n",
       "4 BAD_DEBT 年末销售旺季                 40000    13     24个月\n",
       "5 BAD_DEBT 扩大经营规模                 15000    13     18个月\n",
       "6 BAD_DEBT 用于生活日常交费用           10000    13     24个月\n",
       "  passTime            信用评级 性别 学历       婚姻      ... 严重逾期\n",
       "1 2015-01-07 10:42:14 HR       男   高中或以下 UNMARRIED ... 1       \n",
       "2 2015-01-06 11:39:10 HR       男   大专       MARRIED   ... 1       \n",
       "3 2015-01-05 12:39:26 HR       女   大专       UNMARRIED ... 1       \n",
       "4 2015-01-07 09:54:21 HR       男   大专       MARRIED   ... 1       \n",
       "5 2015-01-09 17:55:30 HR       男   大专       DIVORCED  ... 1       \n",
       "6 2015-01-05 17:52:16 HR       男   大专       UNMARRIED ... 1       \n",
       "  收入          房产  房贷  车产  车贷  公司规模  工作城市  工作时间      年龄\n",
       "1 2000-5000元   false false false false 100-500人 上海 黄浦 1-3年（含）   23  \n",
       "2 5000-10000元  true  true  false false 500人以上 河南 郑州 1-3年（含）   25  \n",
       "3 20000-50000元 false false false false 10人以下  江苏 南京 1-3年（含）   28  \n",
       "4 20000-50000元 false false true  false 10人以下  广东 广州 5年以上       41  \n",
       "5 5000-10000元  false false false false 10人以下  四川 内江 1-3年（含）   30  \n",
       "6 2000-5000元   false false false false 10-100人  贵州 贵阳 1年（含）以下 26  "
      ]
     },
     "metadata": {},
     "output_type": "display_data"
    }
   ],
   "source": [
    "head(loan_data)"
   ]
  }
 ],
 "metadata": {
  "kernelspec": {
   "display_name": "R",
   "language": "R",
   "name": "ir"
  },
  "language_info": {
   "codemirror_mode": "r",
   "file_extension": ".r",
   "mimetype": "text/x-r-source",
   "name": "R",
   "pygments_lexer": "r",
   "version": "3.5.2"
  },
  "toc": {
   "base_numbering": 1,
   "nav_menu": {},
   "number_sections": true,
   "sideBar": true,
   "skip_h1_title": false,
   "title_cell": "Table of Contents",
   "title_sidebar": "Contents",
   "toc_cell": false,
   "toc_position": {},
   "toc_section_display": true,
   "toc_window_display": false
  }
 },
 "nbformat": 4,
 "nbformat_minor": 2
}
