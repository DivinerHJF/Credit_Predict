{
 "cells": [
  {
   "cell_type": "markdown",
   "metadata": {},
   "source": [
    "- 只有在notebook环境下缺失值处理环节才能生效，rstudio环境中不行，具体原因不详"
   ]
  },
  {
   "cell_type": "code",
   "execution_count": null,
   "metadata": {
    "scrolled": false
   },
   "outputs": [],
   "source": [
    "# head(loan_data[, 1:10])\n",
    "# head(loan_data[, 11:20])\n",
    "# head(loan_data[, 21:30])\n",
    "# head(loan_data[, 31:36])"
   ]
  },
  {
   "cell_type": "code",
   "execution_count": null,
   "metadata": {},
   "outputs": [],
   "source": [
    "all_table$gangWeiZhiWei"
   ]
  },
  {
   "cell_type": "markdown",
   "metadata": {},
   "source": [
    "# 读取数据"
   ]
  },
  {
   "cell_type": "code",
   "execution_count": null,
   "metadata": {},
   "outputs": [],
   "source": [
    "loan_data1 <- read.csv(\"./data/renrenloan1.csv\", header = TRUE, stringsAsFactors = FALSE)\n",
    "loan_data1[, \"年龄\"] <- 2015 - as.numeric(substring(loan_data1[,\"出生年月\"], 1, 4))\n",
    "loan_data2 <- read.csv(\"./data/renrenloan2.csv\", header = TRUE, stringsAsFactors = FALSE)\n",
    "loan_data2[, \"年龄\"] <- 2016 - as.numeric(substring(loan_data2[,\"出生年月\"], 1, 4))\n",
    "all_loan_data <- rbind(loan_data1, loan_data2)"
   ]
  },
  {
   "cell_type": "code",
   "execution_count": null,
   "metadata": {},
   "outputs": [],
   "source": [
    "# loan_data1 <- as_tibble(loan_data1)\n",
    "# loan_data12 <- as_tibble(loan_data2)\n",
    "\n",
    "# all_loan_data <- as_tibble(all_loan_data)"
   ]
  },
  {
   "cell_type": "code",
   "execution_count": null,
   "metadata": {},
   "outputs": [],
   "source": [
    "var <- c('标的状态', '标题', '标的总额', '年利率', '期限', 'passTime',\n",
    "         '信用评级', '性别', '学历', '婚姻', '申请借款', '成功借款', '还清笔数', '信用额度', '借款总额', \n",
    "         '逾期次数', '严重逾期', '收入', '房产', '房贷', '车产', '车贷', \n",
    "         '公司规模', '工作城市', '工作时间', \"年龄\")\n",
    "loan_data <- all_loan_data[,var]\n",
    "names(loan_data) <- c(\"biaoDiZhuangTai\", \"biaoTi\", \"biaoDiZongE\", \"nianLiLv\", \"qiXian\", \n",
    "                      \"passTime\", \"xinYongDengJi\", \"xingBie\", \n",
    "                      \"xueLi\", \"hunYin\", \"shenQingJieKuan\", \"chengGongJieKuan\", \"huanQingBiShu\", \"xinYongEDu\", \n",
    "                      \"jieKuanZongE\", \"yuQiCiShu\", \"yanZhongYuQi\", \"shouRu\", \"fangChan\", \n",
    "                      \"fangDai\", \"cheChan\", \"cheDai\", \"gongSiGuiMo\",\n",
    "                      \"gongZuoChengShi\", \"gongZuoShiJian\", \"nianLing\")"
   ]
  },
  {
   "cell_type": "code",
   "execution_count": null,
   "metadata": {},
   "outputs": [],
   "source": [
    "table(loan_data[, \"biaoDiZhuangTai\"])"
   ]
  },
  {
   "cell_type": "code",
   "execution_count": null,
   "metadata": {},
   "outputs": [],
   "source": [
    "library(stringr)\n",
    "loan_data[[\"qiXian\"]] <- as.numeric(str_match(loan_data[, \"qiXian\"], \"([0-9].*?)个月\")[, 2])\n",
    "loan_data[[\"gongZuoChengShi\"]] <- gsub(\"请选择|，| |,\", \"\", loan_data[[\"gongZuoChengShi\"]])\n",
    "loan_data[[\"shengFen\"]] <- substr(loan_data[, \"gongZuoChengShi\"], 1, 2)"
   ]
  },
  {
   "cell_type": "code",
   "execution_count": null,
   "metadata": {},
   "outputs": [],
   "source": [
    "# 数据删除处理\n",
    "# 信用额度为5千万的数据（2条）删除，因为这两位借款人来自人人贷这家公司\n",
    "loan_data <- loan_data[loan_data[[\"xinYongEDu\"]]<50000000, ]\n",
    "# 349个NA对应数据删除，因为与此对应的数据有多个列缺失，包括；收入，学历，婚姻，公司行业，\n",
    "# 公司规模，岗位职位，工作时间，并且删除这些数据后，对违约分布几乎没有影响\n",
    "loan_data <- loan_data[!loan_data[[\"hunYin\"]]==\"INVALID\", ]"
   ]
  },
  {
   "cell_type": "code",
   "execution_count": null,
   "metadata": {},
   "outputs": [],
   "source": [
    "# 收入数据处理\n",
    "# 删除变量中的逗号,空格\n",
    "loan_data[[\"shouRu\"]] <- gsub(',| ', '', loan_data[[\"shouRu\"]])\n",
    "# 删除选择了多个收入范围的人群，10人\n",
    "loan_data <- loan_data[-grep(\".+?-.+?-.+?\", loan_data[[\"shouRu\"]]), ]\n",
    "# 包含个体少的类别合并\n",
    "below5000 <- \"1000元以下|1001-2000元|2000-5000元\"\n",
    "loan_data[[\"shouRu\"]] <- gsub(below5000, '5000元以下', loan_data[[\"shouRu\"]])\n",
    "\n",
    "loan_data[[\"shouRu\"]] <- factor(loan_data[[\"shouRu\"]],\n",
    "    levels = c(\"5000元以下\", \"5000-10000元\", \"10000-20000元\", \"20000-50000元\", \"50000元以上\"),\n",
    "    labels = c(\"0.5万以下\", \"0.5万-1万\", \"1万-2万\", \"2万-5万\", \"5万元以上\"))"
   ]
  },
  {
   "cell_type": "code",
   "execution_count": null,
   "metadata": {},
   "outputs": [],
   "source": [
    "# 因为下面要画箱线图，暂不处理\n",
    "# # 年利率处理，类别合并, 含左不含右\n",
    "# below10 <- loan_data[[\"nianLiLv\"]] < 10\n",
    "# between10and11 <- loan_data[[\"nianLiLv\"]] >=10 & loan_data[[\"nianLiLv\"]] <11\n",
    "# between11and12 <- loan_data[[\"nianLiLv\"]] >= 11 & loan_data[[\"nianLiLv\"]] <12\n",
    "# between12and13 <- loan_data[[\"nianLiLv\"]] >= 12 & loan_data[[\"nianLiLv\"]] <13\n",
    "# above13 <- loan_data[[\"nianLiLv\"]] >= 13\n",
    "# loan_data[below10, \"nianLiLv\"] <- \"rate<10\"\n",
    "# loan_data[between10and11, \"nianLiLv\"] <- \"10<=rate<11\"\n",
    "# loan_data[between11and12, \"nianLiLv\"] <- \"11<=rate<12\"\n",
    "# loan_data[between12and13, \"nianLiLv\"] <- \"12<=rate<13\"\n",
    "# loan_data[above13, \"nianLiLv\"] <- \"rate>=13\""
   ]
  },
  {
   "cell_type": "code",
   "execution_count": null,
   "metadata": {},
   "outputs": [],
   "source": [
    "# 因为下面要画箱线图，暂不处理\n",
    "# # 期限处理（含左不含右）\n",
    "# below12 <- loan_data[[\"qiXian\"]] < 12\n",
    "# between12and24 <- loan_data[[\"qiXian\"]] >= 12 & loan_data[[\"qiXian\"]] < 24\n",
    "# between24and36 <- loan_data[[\"qiXian\"]] >= 24 & loan_data[[\"qiXian\"]] <36\n",
    "# above36 <- loan_data[[\"qiXian\"]] >= 36\n",
    "# loan_data[below12, \"qiXian\"] <- \"term<12\"\n",
    "# loan_data[between12and24, \"qiXian\"] <- \"12<=term<24\"\n",
    "# loan_data[between24and36, \"qiXian\"] <- \"24<=term<36\"\n",
    "# loan_data[above36, \"qiXian\"] <- \"term>=36\""
   ]
  },
  {
   "cell_type": "code",
   "execution_count": null,
   "metadata": {},
   "outputs": [],
   "source": [
    "# 学历处理\n",
    "# 去除逗号\n",
    "loan_data[[\"xueLi\"]] <- gsub(',| ', '', loan_data[[\"xueLi\"]])\n",
    "# 小类别合并\n",
    "abovebacholr <- \"本科|研究生或以上\"\n",
    "loan_data[[\"xueLi\"]] <- gsub(abovebacholr, \"本科或以上\", loan_data[[\"xueLi\"]])\n",
    "loan_data[[\"xueLi\"]] <- factor(loan_data[[\"xueLi\"]], levels = c(\"高中或以下\", \"大专\", \"本科或以上\"))"
   ]
  },
  {
   "cell_type": "code",
   "execution_count": null,
   "metadata": {},
   "outputs": [],
   "source": [
    "# 婚姻处理，小类别合并\n",
    "loan_data[loan_data[[\"hunYin\"]]==\"WIDOWED\", \"hunYin\"] <- \"DIVORCED\"\n",
    "loan_data[[\"hunYin\"]] <- factor(loan_data[[\"hunYin\"]], levels=c(\"DIVORCED\", \"UNMARRIED\", \"MARRIED\"), \n",
    "                                  labels = c(\"离婚\", \"未婚\", \"已婚\"))"
   ]
  },
  {
   "cell_type": "code",
   "execution_count": null,
   "metadata": {},
   "outputs": [],
   "source": [
    "# 公司规模处理\n",
    "# 去除逗号\n",
    "loan_data[[\"gongSiGuiMo\"]] <- gsub(\",| \", \"\", loan_data[[\"gongSiGuiMo\"]])\n",
    "\n",
    "loan_data[[\"gongSiGuiMo\"]] <- gsub(\"100-500人|500人以上\", \"100人以上\", loan_data[[\"gongSiGuiMo\"]])\n",
    "loan_data[[\"gongSiGuiMo\"]] <- factor(loan_data[[\"gongSiGuiMo\"]], \n",
    "                                     levels = c(\"10人以下\", \"10-100人\", \"100人以上\"))\n",
    "loan_data[is.na.data.frame(loan_data[[\"gongSiGuiMo\"]]), \"gongSiGuiMo\"] <- \"10人以下\""
   ]
  },
  {
   "cell_type": "code",
   "execution_count": null,
   "metadata": {},
   "outputs": [],
   "source": [
    "# 工作时间处理\n",
    "loan_data[[\"gongZuoShiJian\"]] <- gsub(\",| \", \"\", loan_data[[\"gongZuoShiJian\"]])\n",
    "loan_data[loan_data[[\"gongZuoShiJian\"]]==\"无\", \"gongZuoShiJian\"] <- \"1年（含）以下\"\n",
    "loan_data[is.na.data.frame(loan_data[[\"gongZuoShiJian\"]]), \"gongZuoShiJian\"] <- \"1年（含）以下\""
   ]
  },
  {
   "cell_type": "code",
   "execution_count": null,
   "metadata": {},
   "outputs": [],
   "source": [
    "dim(loan_data)"
   ]
  },
  {
   "cell_type": "code",
   "execution_count": null,
   "metadata": {},
   "outputs": [],
   "source": [
    "apply(is.na.data.frame(loan_data), 2, sum)"
   ]
  },
  {
   "cell_type": "markdown",
   "metadata": {
    "heading_collapsed": true
   },
   "source": [
    "# 违约分布情况"
   ]
  },
  {
   "cell_type": "code",
   "execution_count": null,
   "metadata": {
    "hidden": true
   },
   "outputs": [],
   "source": [
    "month2015bad <- as.numeric(str_match(loan_data1[loan_data1[[\"标的状态\"]]==\"BAD_DEBT\", \"passTime\"], \"-(.*?)-\")[, 2])\n",
    "month2015bad <- data.frame(table(month2015bad), stringsAsFactors = FALSE)\n",
    "month2015 <- as.numeric(str_match(loan_data1[, \"passTime\"], \"-(.*?)-\")[, 2])\n",
    "month2015 <- data.frame(table(month2015), stringsAsFactors = FALSE)\n",
    "month2016bad <- as.numeric(str_match(loan_data2[loan_data2[[\"标的状态\"]]==\"BAD_DEBT\", \"passTime\"], \"-(.*?)-\")[, 2])\n",
    "month2016bad <- data.frame(table(month2016bad), stringsAsFactors = FALSE)\n",
    "month2016 <- as.numeric(str_match(loan_data2[, \"passTime\"], \"-(.*?)-\")[, 2])\n",
    "month2016 <- data.frame(table(month2016), stringsAsFactors = FALSE)\n",
    "plot(month2015bad[, \"Freq\"]/month2015[, \"Freq\"], type = \"b\", col = \"red\", ylim = c(0, 0.25), \n",
    "     ylab = \"违约率\", xlab = \"月份\", lty=1)\n",
    "lines(c(month2016bad[[\"Freq\"]] , c(0, 0))/month2016[, \"Freq\"], type = \"b\", col = \"green\", lty = 5)\n",
    "legend(6, 0.25, col = c(\"red\", \"green\"), legend = c(2015, 2016), lty = c(1, 5))"
   ]
  },
  {
   "cell_type": "markdown",
   "metadata": {},
   "source": [
    "# 箱线图"
   ]
  },
  {
   "cell_type": "markdown",
   "metadata": {},
   "source": [
    "## 借款人信息"
   ]
  },
  {
   "cell_type": "code",
   "execution_count": null,
   "metadata": {},
   "outputs": [],
   "source": [
    "init_value <- loan_data[[\"biaoDiZhuangTai\"]]\n",
    "loan_data[[\"biaoDiZhuangTai\"]] <- factor(init_value, levels = c(\"CLOSED\", \"BAD_DEBT\"), \n",
    "                                        labels = c(\"正常\", \"违约\"))"
   ]
  },
  {
   "cell_type": "code",
   "execution_count": null,
   "metadata": {},
   "outputs": [],
   "source": [
    "boxplot(nianLing~biaoDiZhuangTai*xingBie, data = loan_data, \n",
    "        varwidth=TRUE, col=c(\"lightblue\", \"grey\"), \n",
    "        xlab=\"借款人信息\", ylab=\"年龄\")"
   ]
  },
  {
   "cell_type": "code",
   "execution_count": null,
   "metadata": {},
   "outputs": [],
   "source": [
    "library(vcd)\n",
    "opar <- par(no.readonly = TRUE)\n",
    "par(mfrow = c(1, 2))\n",
    "spineplot(biaoDiZhuangTai~xueLi, data = loan_data, col = c(\"lightblue\", \"grey\"), \n",
    "          ylab = \"标的状态\", xlab=\"学历\")\n",
    "\n",
    "spineplot(biaoDiZhuangTai~hunYin, data = loan_data, col = c(\"lightblue\", \"grey\"), \n",
    "          ylab = \"标的状态\", xlab=\"婚姻\")\n",
    "par(opar)"
   ]
  },
  {
   "cell_type": "code",
   "execution_count": null,
   "metadata": {},
   "outputs": [],
   "source": [
    "par(mfrow = c(2, 2))\n",
    "loan_data[[\"cheChan\"]] <- factor(tolower(loan_data[[\"cheChan\"]]))\n",
    "loan_data[[\"cheDai\"]] <- factor(tolower(loan_data[[\"cheDai\"]]))\n",
    "loan_data[[\"fangChan\"]] <- factor(tolower(loan_data[[\"fangChan\"]]))\n",
    "loan_data[[\"fangDai\"]] <- factor(tolower(loan_data[[\"fangDai\"]]))\n",
    "spineplot(biaoDiZhuangTai~cheChan, data = loan_data, col = c(\"lightblue\", \"grey\"), \n",
    "          ylab = \"标的状态\", xlab=\"车产\", xaxlab=c(\"无\",\"有\"))\n",
    "spineplot(biaoDiZhuangTai~cheDai, data = loan_data, col = c(\"lightblue\", \"grey\"), \n",
    "          ylab = \"标的状态\", xlab=\"车贷\", xaxlab=c(\"无\",\"有\"))\n",
    "spineplot(biaoDiZhuangTai~fangChan, data = loan_data, col = c(\"lightblue\", \"grey\"), \n",
    "          ylab = \"标的状态\", xlab=\"房产\", xaxlab=c(\"无\",\"有\"))\n",
    "spineplot(biaoDiZhuangTai~fangDai, data = loan_data, col = c(\"lightblue\", \"grey\"), \n",
    "          ylab = \"标的状态\", xlab=\"房贷\", xaxlab=c(\"无\",\"有\"))\n",
    "par(opar)"
   ]
  },
  {
   "cell_type": "code",
   "execution_count": null,
   "metadata": {},
   "outputs": [],
   "source": [
    "spineplot(biaoDiZhuangTai~shouRu, data = loan_data, col = c(\"lightblue\", \"grey\"), \n",
    "          ylab = \"标的状态\", xlab=\"收入\")\n",
    "spineplot(biaoDiZhuangTai~gongSiGuiMo, data = loan_data, col = c(\"lightblue\", \"grey\"), \n",
    "          ylab = \"标的状态\", xlab=\"公司规模\")"
   ]
  },
  {
   "cell_type": "markdown",
   "metadata": {},
   "source": [
    "## 利率信息"
   ]
  },
  {
   "cell_type": "code",
   "execution_count": null,
   "metadata": {},
   "outputs": [],
   "source": [
    "par(mfrow=c(1, 2))\n",
    "boxplot(nianLiLv~biaoDiZhuangTai, data = loan_data, \n",
    "        varwidth=TRUE,  col = c(\"lightblue\", \"grey\"), \n",
    "        xlab=\"标的状态\", ylab=\"年利率\")\n",
    "boxplot(qiXian~biaoDiZhuangTai, data = loan_data, \n",
    "        varwidth=TRUE,  col = c(\"lightblue\", \"grey\"), \n",
    "        xlab=\"标的状态\", ylab=\"期限\")\n",
    "boxplot(yuQiCiShu~biaoDiZhuangTai, data = loan_data, \n",
    "        varwidth=TRUE,  col = c(\"lightblue\", \"grey\"), \n",
    "        xlab=\"标的状态\", ylab=\"标的总额\")\n",
    "par(opar)"
   ]
  },
  {
   "cell_type": "markdown",
   "metadata": {},
   "source": [
    "## 信用信息"
   ]
  },
  {
   "cell_type": "code",
   "execution_count": null,
   "metadata": {},
   "outputs": [],
   "source": [
    "loan_data[, \"yuQiCiShu\"] <- loan_data[, \"yuQiCiShu\"] + 1\n",
    "par(mfrow = c(1, 2))\n",
    "boxplot(yuQiCiShu~biaoDiZhuangTai, data = loan_data, \n",
    "        varwidth=TRUE,  log=\"y\",col = c(\"lightblue\", \"grey\"), \n",
    "        xlab=\"标的状态\", ylab=\"逾期次数+1\")\n",
    "# loan_data[[\"xinYongEDu\"]] <- loan_data[[\"xinYongEDu\"]]+1\n",
    "boxplot(jieKuanZongE~biaoDiZhuangTai, data = loan_data, \n",
    "        varwidth=TRUE,  log=\"y\",col = c(\"lightblue\", \"grey\"), \n",
    "        xlab=\"标的状态\", ylab=\"借款总额\")"
   ]
  },
  {
   "cell_type": "markdown",
   "metadata": {
    "heading_collapsed": true
   },
   "source": [
    "# 马赛克图"
   ]
  },
  {
   "cell_type": "code",
   "execution_count": null,
   "metadata": {
    "hidden": true
   },
   "outputs": [],
   "source": [
    "init_value <- loan_data[[\"biaoDiZhuangTai\"]]"
   ]
  },
  {
   "cell_type": "code",
   "execution_count": null,
   "metadata": {
    "hidden": true
   },
   "outputs": [],
   "source": [
    "library(vcd)\n",
    "loan_data[[\"biaoDiZhuangTai\"]] <- factor(init_value, levels = c(\"CLOSED\", \"BAD_DEBT\"), \n",
    "                                        labels = c(\"正常\", \"违约\"))\n",
    "mosaic(biaoDiZhuangTai~xingBie+ xueLi+hunYin, data = loan_data )"
   ]
  },
  {
   "cell_type": "code",
   "execution_count": null,
   "metadata": {
    "hidden": true
   },
   "outputs": [],
   "source": [
    "loan_data[[\"biaoDiZhuangTai\"]] <- factor(init_value, levels = c(\"CLOSED\", \"BAD_DEBT\"), \n",
    "                                        labels = c(\"正常\", \"违约\"))\n",
    "mosaic(biaoDiZhuangTai~shouRu+gongSiGuiMo, data = loan_data)"
   ]
  },
  {
   "cell_type": "markdown",
   "metadata": {
    "heading_collapsed": true
   },
   "source": [
    "# 气泡图"
   ]
  },
  {
   "cell_type": "code",
   "execution_count": null,
   "metadata": {
    "hidden": true
   },
   "outputs": [],
   "source": [
    "library(ggplot2)\n",
    "p <- ggplot(loan_data, aes(x=nianLiLv, y = qiXian, color = biaoDiZhuangTai, size = biaoDiZongE)) + geom_point() \n",
    "p+ labs(x = \"年利率（%）\", y = \"期限（月）\", color = \"标的状态\", size = \"标的总额\")"
   ]
  },
  {
   "cell_type": "code",
   "execution_count": null,
   "metadata": {
    "hidden": true
   },
   "outputs": [],
   "source": [
    "p <- ggplot(loan_data, aes(x=chengGongJieKuan, y = huanQingBiShu, color = biaoDiZhuangTai, size = yuQiCiShu)) + geom_point() \n",
    "p+ labs(x = \"成功借款笔数\", y = \"还清借款笔数\", color = \"标的状态\", size = \"逾期次数\")"
   ]
  },
  {
   "cell_type": "markdown",
   "metadata": {
    "heading_collapsed": true
   },
   "source": [
    "# 标题词云"
   ]
  },
  {
   "cell_type": "markdown",
   "metadata": {
    "hidden": true
   },
   "source": [
    "## 分词"
   ]
  },
  {
   "cell_type": "code",
   "execution_count": null,
   "metadata": {
    "hidden": true
   },
   "outputs": [],
   "source": [
    "all.title <- paste(loan_data[, \"biaoTi\"],collapse = \"。 \")"
   ]
  },
  {
   "cell_type": "code",
   "execution_count": null,
   "metadata": {
    "hidden": true
   },
   "outputs": [],
   "source": [
    "myWordCloud <- function(title, n=200){\n",
    "    # 去除停用词\n",
    "    library(jiebaR)\n",
    "    work <- worker(stop_word = \"./stopwordsCH.txt\")\n",
    "    jieba.title <- segment(title, work)\n",
    "    # 进一步过滤停用词\n",
    "    filter.words <- c(\"用于\")\n",
    "    jieba.title <- filter_segment(jieba.title, filter.words)\n",
    "    seg <- table(jieba.title)\n",
    "    #去除数字\n",
    "    seg <- seg[!grepl('[0-9]+',names(seg))]\n",
    "    #降序排序，并提取出现次数最多的前200个词语\n",
    "    jieba.title <- sort(seg, decreasing = TRUE)[1:n]\n",
    "\n",
    "    library(wordcloud2)\n",
    "    wordcloud2(jieba.title, size = 1)\n",
    "#     Twitter <- system.file(\"examples/T.png\",package = \"wordcloud2\")\n",
    "#     wordcloud2(seg, figPath =Twitter, size = 1,\n",
    "#                color = \"random-light\",backgroundColor = \"grey\") #figPath调用图片\n",
    "}"
   ]
  },
  {
   "cell_type": "code",
   "execution_count": null,
   "metadata": {
    "hidden": true
   },
   "outputs": [],
   "source": [
    "myWordCloud(all.title)"
   ]
  },
  {
   "cell_type": "code",
   "execution_count": null,
   "metadata": {
    "hidden": true,
    "scrolled": true
   },
   "outputs": [],
   "source": [
    "closed.title <- loan_data[loan_data[, \"biaoDiZhuangTai\"]==\"CLOSED\",\"biaoTi\"]\n",
    "myWordCloud(closed.title)"
   ]
  },
  {
   "cell_type": "code",
   "execution_count": null,
   "metadata": {
    "hidden": true
   },
   "outputs": [],
   "source": [
    "bad.title <- loan_data[loan_data[, \"biaoDiZhuangTai\"]==\"BAD_DEBT\",\"biaoTi\"]\n",
    "myWordCloud(bad.title)"
   ]
  },
  {
   "cell_type": "code",
   "execution_count": null,
   "metadata": {
    "hidden": true,
    "scrolled": true
   },
   "outputs": [],
   "source": [
    "data(\"PreSex\")\n",
    "mosaic(~ ExtramaritalSex + PremaritalSex | MaritalStatus + Gender,\n",
    "       data = PreSex)"
   ]
  },
  {
   "cell_type": "code",
   "execution_count": null,
   "metadata": {
    "hidden": true,
    "scrolled": true
   },
   "outputs": [],
   "source": [
    "mosaic(Survived ~ ., data = Titanic)"
   ]
  },
  {
   "cell_type": "code",
   "execution_count": null,
   "metadata": {
    "hidden": true,
    "scrolled": true
   },
   "outputs": [],
   "source": [
    "data(\"Arthritis\")\n",
    "mosaic(Improved ~ Treatment | Sex, data = Arthritis, zero_size = 0)"
   ]
  },
  {
   "cell_type": "code",
   "execution_count": null,
   "metadata": {
    "hidden": true,
    "scrolled": true
   },
   "outputs": [],
   "source": [
    "mosaic(Improved ~ Treatment | Sex, data = Arthritis, zero_size = 0,\n",
    "       highlighting_direction = \"right\")"
   ]
  },
  {
   "cell_type": "markdown",
   "metadata": {},
   "source": [
    "# 地图"
   ]
  },
  {
   "cell_type": "code",
   "execution_count": null,
   "metadata": {},
   "outputs": [],
   "source": [
    "library(dplyr) #数据预处理\n",
    "library(maptools) #用于读取地图矢量数据\n",
    "library(ggplot2) #绘制地图\n",
    "#读取地图矢量数据\n",
    "map_data <- readShapePoly(file.choose())\n",
    "#获取指定的字段\n",
    "df_map <- map_data@data\n",
    "head(df_map)"
   ]
  },
  {
   "cell_type": "code",
   "execution_count": null,
   "metadata": {},
   "outputs": [],
   "source": [
    "#为各个省添加id\n",
    "df_map$id <- as.character(0:33)\n",
    "head(df_map)"
   ]
  },
  {
   "cell_type": "code",
   "execution_count": null,
   "metadata": {},
   "outputs": [],
   "source": [
    "# 可以通过fortify()函数将.shp文件中经纬度信息返回出来。\n",
    "latitude_longitude <- fortify(map_data)\n",
    "\n",
    "# 下面将latitude_longitudd与df_map表进行关联，目的是将经纬度信息对应到自个的省份中。\n",
    "latitude_longitude <- latitude_longitude[, c('long', 'lat', 'id')] %>% left_join(., df_map, by = 'id')\n",
    "head(latitude_longitude)"
   ]
  },
  {
   "cell_type": "code",
   "execution_count": null,
   "metadata": {},
   "outputs": [],
   "source": [
    "# 但数据集中并不是每个省只对应一个经纬度，而是各省轮廓的经纬度，下面需要为每个省创建一个经纬度，用以下文中的绘图需要。\n",
    "latitude_longitude <- tbl_df(latitude_longitude)\n",
    "#使用group_by函数对指定数据的字段进行聚合\n",
    "group_id <- group_by(.data = latitude_longitude, id)\n",
    "#自定义各省份经纬度中心位置的函数\n",
    "center <- function(x) mean(range(x))\n",
    "#聚合操作\n",
    "province_location <- summarise(.data = group_id, latitude = center(lat), longitude = center(long))\n",
    "#查看数据前6行\n",
    "head(province_location)"
   ]
  },
  {
   "cell_type": "code",
   "execution_count": null,
   "metadata": {},
   "outputs": [],
   "source": [
    "# 获取数据\n",
    "table(loan_data[, c(\"biaoDiZhuangTai\", \"shengFen\")])"
   ]
  },
  {
   "cell_type": "code",
   "execution_count": null,
   "metadata": {},
   "outputs": [],
   "source": [
    "# 根据上面的table得到\n",
    "NAME <- c('浙江', '云南', '新疆', '香港', '西藏', '台湾', '四川', '陕西', '山西', '山东', '青海', '宁夏', \n",
    " '内蒙古', '辽宁', '江西', '吉林', '湖南', '湖北', '黑龙江', '河南', '北京市', '天津市', '海南', \n",
    " '贵州', '广西', '甘肃', '福建', '澳门', '安徽', '上海', '重庆', '江苏', '广东', '河北')\n",
    "# closed：香港,台湾,澳门\n",
    "closed <- c(1143, 655, 69, 1, 7, 1, 815, 990, 218, 1986, 8, 29, 110, 1421, 189, 709, 1128, 1354, 645, 1194, \n",
    "            854, 476, 221, 1072, 287, 423, 2210, 1, 603, 840, 1318, 2707, 3420, 940)\n",
    "bad_debt <- c(156, 26, 15, 0, 1, 0, 145, 46, 54, 109, 4, 7, 49, 59, 59, 31, 57, 64, 77, 147, \n",
    "              43, 13, 16, 29, 67, 27, 93, 0, 63, 56, 30, 107, 470, 80)\n",
    "num <- closed + bad_debt\n",
    "ratio <- bad_debt/(closed + bad_debt)\n",
    "loan_pro_data <- data.frame(NAME=NAME, closed = closed, bad_debt = bad_debt, ratio = ratio, num = num)"
   ]
  },
  {
   "cell_type": "code",
   "execution_count": null,
   "metadata": {},
   "outputs": [],
   "source": [
    "num"
   ]
  },
  {
   "cell_type": "code",
   "execution_count": null,
   "metadata": {},
   "outputs": [],
   "source": [
    "Province_Info <- province_location %>% left_join(., df_map, by = 'id') %>% \n",
    "left_join(., loan_pro_data, by = 'NAME')\n",
    "head(Province_Info)"
   ]
  },
  {
   "cell_type": "code",
   "execution_count": null,
   "metadata": {},
   "outputs": [],
   "source": [
    "# 将各省份详细的轮廓经纬度数据与各省的数据关联\n",
    "latitude_longitude <- latitude_longitude %>% left_join(., Province_Info[, c('id','closed','bad_debt', \"ratio\", \"num\")], by = 'id')\n",
    "head(latitude_longitude)"
   ]
  },
  {
   "cell_type": "code",
   "execution_count": null,
   "metadata": {},
   "outputs": [],
   "source": [
    "# 但图中的背景色、坐标轴、经纬线都是不需要的，图例也可以放到左下角，用theme命令清除：\n",
    "ggplot(data = latitude_longitude, mapping = aes(x = long, y = lat,  group = id)) + \n",
    "  geom_polygon(colour = 'black', fill = 'white')+  \n",
    "  coord_map(\"polyconic\") +       #指定投影方式为polyconic，获得常见视角中国地图\n",
    "  theme(               #清除不需要的元素\n",
    "    panel.grid = element_blank(),\n",
    "    panel.background = element_blank(),\n",
    "    axis.text = element_blank(),\n",
    "    axis.ticks = element_blank(),\n",
    "    axis.title = element_blank(),\n",
    "    legend.position = c(0.2,0.3)\n",
    "  )"
   ]
  },
  {
   "cell_type": "code",
   "execution_count": null,
   "metadata": {},
   "outputs": [],
   "source": [
    "# 现在，我想将各个省份的名称贴在地图的各个省份中，该如何实现呢？\n",
    "ggplot(data = latitude_longitude, mapping = aes(x = long, y = lat,  group = id)) + geom_polygon(colour = 'black', fill = 'white') + scale_fill_manual(values=colours(),guide=FALSE) + geom_text(mapping = aes(x = longitude, y = latitude, label = NAME), data = Province_Info, colour = 'red') + theme(axis.title = element_blank(), axis.text = element_blank(), axis.ticks = element_blank(), panel.grid = element_blank())\n"
   ]
  },
  {
   "cell_type": "code",
   "execution_count": null,
   "metadata": {},
   "outputs": [],
   "source": [
    "ggplot(data = latitude_longitude, mapping = aes(x = long, y = lat,  group = id, fill = ratio)) + \n",
    "geom_polygon(colour = 'black') + scale_fill_gradient(low = 'green', high = 'blue') + \n",
    "theme(axis.title = element_blank(), axis.text = element_blank(), \n",
    "      axis.ticks = element_blank(), panel.grid = element_blank())\n"
   ]
  },
  {
   "cell_type": "code",
   "execution_count": null,
   "metadata": {},
   "outputs": [],
   "source": [
    "ggplot(data = latitude_longitude, mapping = aes(x = long, y = lat,  group = id, fill = ratio)) + \n",
    "geom_polygon(colour = 'black') + \n",
    "geom_point(mapping = aes(x = longitude, y = latitude, size = num), data = Province_Info, colour = 'red') + \n",
    "scale_fill_gradient(low = 'white', high = 'blue') + \n",
    "scale_size_area() + theme(panel.background = element_blank(),\n",
    "                          axis.title = element_blank(), \n",
    "                          axis.text = element_blank(), \n",
    "                          axis.ticks = element_blank(), \n",
    "                          panel.grid = element_blank())\n"
   ]
  }
 ],
 "metadata": {
  "kernelspec": {
   "display_name": "R",
   "language": "R",
   "name": "ir"
  },
  "language_info": {
   "codemirror_mode": "r",
   "file_extension": ".r",
   "mimetype": "text/x-r-source",
   "name": "R",
   "pygments_lexer": "r",
   "version": "3.5.2"
  },
  "latex_envs": {
   "LaTeX_envs_menu_present": true,
   "autoclose": false,
   "autocomplete": true,
   "bibliofile": "biblio.bib",
   "cite_by": "apalike",
   "current_citInitial": 1,
   "eqLabelWithNumbers": true,
   "eqNumInitial": 1,
   "hotkeys": {
    "equation": "Ctrl-E",
    "itemize": "Ctrl-I"
   },
   "labels_anchors": false,
   "latex_user_defs": false,
   "report_style_numbering": false,
   "user_envs_cfg": false
  },
  "toc": {
   "base_numbering": 1,
   "nav_menu": {},
   "number_sections": true,
   "sideBar": true,
   "skip_h1_title": false,
   "title_cell": "Table of Contents",
   "title_sidebar": "Contents",
   "toc_cell": false,
   "toc_position": {},
   "toc_section_display": true,
   "toc_window_display": false
  }
 },
 "nbformat": 4,
 "nbformat_minor": 2
}
